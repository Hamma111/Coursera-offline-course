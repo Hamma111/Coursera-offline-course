{
 "cells": [
  {
   "cell_type": "code",
   "execution_count": 460,
   "metadata": {},
   "outputs": [],
   "source": [
    "from selenium import webdriver\n",
    "from selenium.webdriver.common.keys import Keys\n",
    "from selenium.webdriver.chrome.options import Options\n",
    "from selenium.webdriver.common.by import By\n",
    "from selenium.webdriver.support.ui import WebDriverWait\n",
    "from selenium.webdriver.support import expected_conditions as EC\n",
    "\n",
    "from time import sleep\n",
    "import urllib\n",
    "import os\n",
    "from bs4 import BeautifulSoup\n",
    "import requests"
   ]
  },
  {
   "cell_type": "code",
   "execution_count": 2,
   "metadata": {},
   "outputs": [],
   "source": [
    "options = Options()\n",
    "# options.add_argument(\"--disable-blink-features\")\n",
    "# options.add_argument(\"--disable-blink-features=AutomationControlled\")\n",
    "options.add_argument(\"start-maximized\")\n",
    "options.add_experimental_option(\"excludeSwitches\", [\"enable-automation\"])\n",
    "options.add_experimental_option('useAutomationExtension', False)\n",
    "\n",
    "dr = webdriver.Chrome(options=options)"
   ]
  },
  {
   "cell_type": "code",
   "execution_count": 11,
   "metadata": {},
   "outputs": [],
   "source": [
    "dr.get('https://www.coursera.org/?authMode=login')\n",
    "dr.find_element_by_xpath('//input[@type = \"email\"]').send_keys('Bcsf17m521@pucit.edu.pk')\n",
    "dr.find_element_by_xpath('//input[@type = \"password\"]').send_keys('Coursera!!4040')\n",
    "dr.find_element_by_xpath('//input[@type = \"password\"]').send_keys(Keys.ENTER)"
   ]
  },
  {
   "cell_type": "code",
   "execution_count": 471,
   "metadata": {},
   "outputs": [],
   "source": [
    "## soup = BeautifulSoup(dr.page_source, \"html.parser\")\n",
    "courseTitle = soup.find('h1').text\n",
    "os.mkdir(courseTitle) \n",
    "os.mkdir(f'{courseTitle}/assets')\n",
    "os.mkdir(f'{courseTitle}/assets/images') "
   ]
  },
  {
   "cell_type": "code",
   "execution_count": 579,
   "metadata": {},
   "outputs": [],
   "source": [
    "images_path = f'{courseTitle}/assets/images'.replace('\\\\', '/')\n",
    "images_counter = 0"
   ]
  },
  {
   "cell_type": "code",
   "execution_count": 487,
   "metadata": {},
   "outputs": [],
   "source": [
    "if dr.current_url.find('/welcome') != -1:\n",
    "    base_url = dr.current_url \n",
    "    soup = BeautifulSoup(dr.page_source)\n",
    "    weeks = [x.text for x in soup.findAll(\"a\", {\"data-track-component\":\"nav_week\"})]"
   ]
  },
  {
   "cell_type": "code",
   "execution_count": 439,
   "metadata": {},
   "outputs": [],
   "source": [
    "for w in weeks:\n",
    "    dr.get(base_url.replace('welcome', 'week/1'))\n",
    "    WebDriverWait(dr, 20).until(EC.presence_of_element_located((By.XPATH, '//p[contains(text(), \"Discuss the topic here.\")]')))\n",
    "    break"
   ]
  },
  {
   "cell_type": "code",
   "execution_count": 440,
   "metadata": {},
   "outputs": [
    {
     "data": {
      "text/plain": [
       "<selenium.webdriver.remote.webelement.WebElement (session=\"bc0db738d03041a195b69bfc6bca80e8\", element=\"83cabd32-c0f8-4f6d-9021-05e92b031d11\")>"
      ]
     },
     "execution_count": 440,
     "metadata": {},
     "output_type": "execute_result"
    }
   ],
   "source": [
    "soup = BeautifulSoup(dr.page_source)\n",
    "temp = soup.find('div', {'class':'horizontal-box named-item-list-title'}).next.next.next\n",
    "link_to_first_lec_of_week = [x for x in temp][0].contents[0]['href']\n",
    "dr.get(\"https://coursera.org{}\".format(link_to_first_lec_of_week)) \n",
    "WebDriverWait(dr, 20).until(EC.presence_of_element_located((By.XPATH, '//button[contains(text(), \"Download\")]')))"
   ]
  },
  {
   "cell_type": "code",
   "execution_count": 302,
   "metadata": {},
   "outputs": [],
   "source": [
    "# clicks on navigation contents button if not clicked by default\n",
    "toggle_nav_but = dr.find_element_by_xpath('//button[@aria-label=\"Toggle Navigation Panel\"]')\n",
    "if toggle_nav_but.get_attribute('aria-expanded')=='false':\n",
    "    toggle_nav_but.click()"
   ]
  },
  {
   "cell_type": "code",
   "execution_count": 303,
   "metadata": {},
   "outputs": [],
   "source": [
    "## expand contents\n",
    "contents = dr.find_elements_by_xpath('//button[@class=\"nostyle link-button\"]') \n",
    "for c in contents: \n",
    "    if c.get_attribute('aria-expanded') == 'false':\n",
    "        c.click() \n",
    "sleep(1)"
   ]
  },
  {
   "cell_type": "code",
   "execution_count": 124,
   "metadata": {},
   "outputs": [],
   "source": [
    "html_form = \"\"\"<html>\n",
    "<p>\n",
    "template\n",
    "</p>\n",
    "</html>\"\"\""
   ]
  },
  {
   "cell_type": "code",
   "execution_count": 263,
   "metadata": {},
   "outputs": [],
   "source": [
    "soup = BeautifulSoup(dr.page_source, \"html.parser\")\n",
    "contentNames = [item.text for menus in soup.findAll(class_=\"rc-LessonItems nostyle\")\n",
    " for itemList in menus.findAll('li') \n",
    " for item in itemList.findAll('div', {'class':'rc-NavItemName caption-text'})\n",
    "]\n",
    "\n",
    "contentLinks = [f\"https://coursera.org{item['href']}\" for menus in soup.findAll(class_=\"rc-LessonItems nostyle\")\n",
    " for itemList in menus.findAll('li') \n",
    " for item in itemList.findAll('a', {'href':True})\n",
    "]"
   ]
  },
  {
   "cell_type": "code",
   "execution_count": 594,
   "metadata": {},
   "outputs": [],
   "source": [
    "lecture_elements = dr.find_elements_by_xpath('//div[@class=\"rc-NavItemIcon\"]')"
   ]
  },
  {
   "cell_type": "code",
   "execution_count": 595,
   "metadata": {},
   "outputs": [],
   "source": [
    "contentTitles = [] "
   ]
  },
  {
   "cell_type": "code",
   "execution_count": 596,
   "metadata": {},
   "outputs": [],
   "source": [
    "for el in lecture_elements:\n",
    "    try:\n",
    "        el.click()\n",
    "    except:\n",
    "        continue\n",
    "    try:\n",
    "        WebDriverWait(dr, 4).until(EC.presence_of_element_located((By.XPATH, '//button[@aria-label=\"Like\"]')))\n",
    "    except:\n",
    "        sleep(2)\n",
    "        pass\n",
    "    sleep(1)\n",
    "    soup = BeautifulSoup(dr.page_source, \"html.parser\").find('div', {'class':'item-scroll-container'})\n",
    "    if soup.find('h3', {'class':'video-name'}) is not None:\n",
    "        title = f\"Video: {soup.find('h3', {'class':'video-name'}).text}\"\n",
    "    elif  soup.find('div', {'class':'reading-title'}) is not None:\n",
    "        title = f\"Reading: {soup.find('div', {'class':'reading-title'}).text}\"\n",
    "    else:\n",
    "        title = soup.find('h2').text\n",
    "    \n",
    "    \n",
    "    contentTitles.append(title.replace(\":\",\"\").replace(\"<\",\"\").replace(\">\",\"\"))\n",
    "    createLocalHTML(soup, title)"
   ]
  },
  {
   "cell_type": "code",
   "execution_count": 597,
   "metadata": {},
   "outputs": [
    {
     "data": {
      "text/plain": [
       "['Video Video Welcome to Class - Dr. Chuck',\n",
       " 'Reading Reading Welcome to The Class',\n",
       " 'Video Video Welcome to Python - Guido van Rossum',\n",
       " 'Reading Help Us Learn More About You!',\n",
       " 'Reading Welcome to Python 3',\n",
       " 'Reading Textbook Python for Everybody Exploring Data in Python 3',\n",
       " 'Reading Submitting Assignments',\n",
       " 'Video 1.1 - Why Program',\n",
       " 'Video 1.2 - Hardware Overview',\n",
       " 'Video 1.3 - Python as a Language',\n",
       " 'Reading Audio Versions of All Lectures',\n",
       " 'Video Fun The Textbook Authors Meet @PyCon2015',\n",
       " 'Video Face to Face Office Hours - Bengaluru, India']"
      ]
     },
     "execution_count": 597,
     "metadata": {},
     "output_type": "execute_result"
    }
   ],
   "source": [
    "contentTitles"
   ]
  },
  {
   "cell_type": "code",
   "execution_count": 615,
   "metadata": {},
   "outputs": [],
   "source": [
    "## for \"reading\" items\n",
    "soup = BeautifulSoup(dr.page_source, \"html.parser\").find('div', {'class':'item-scroll-container'}) "
   ]
  },
  {
   "cell_type": "code",
   "execution_count": 614,
   "metadata": {},
   "outputs": [],
   "source": [
    "def createLocalHTML(soup, title):\n",
    "    ## saves images if any image is present in module\n",
    "    global images_counter\n",
    "    for src in soup.findAll('img'):\n",
    "        images_counter += 1\n",
    "        img_path = f'{images_path}/{images_counter}.jpg'\n",
    "        with open(f'{images_path}/{images_counter}.jpg', 'wb') as f:\n",
    "            f.write(requests.get(src['src']).content) \n",
    "        src['src'] = img_path\n",
    "    \n",
    "    with open(f'{courseTitle}/{title}.html', 'w') as f:\n",
    "        f.write(str(soup))\n",
    "createLocalHTML(soup, title) "
   ]
  },
  {
   "cell_type": "code",
   "execution_count": 617,
   "metadata": {},
   "outputs": [],
   "source": [
    "with open('vid.mp4', 'wb') as f:\n",
    "    f.write(requests.get('https://d3c33hcgiwev3.cloudfront.net/2014-08-Guido-Hello-World-02.3179ce70a05811e481fc51ae55819a7c/full/720p/index.mp4?Expires=1609545600&Signature=OhalNsEaKX-S9q76gLVKnm15jYCUhJ~OrGfse1Er7YcQOEEYg6ypJfVovvgJLdp6MCYHJ3mjEiMKEp~ZAZHvLiIN2xCLqZ-AY7llcrSHuhiOcqeqrvgYjXAVf6yeuIrEg5NggqzYHjGwqpyDO4rjsNYwq5qB-ToaAD3ZOW2tdHE_&Key-Pair-Id=APKAJLTNE6QMUY6HBC5A').content)"
   ]
  }
 ],
 "metadata": {
  "kernelspec": {
   "display_name": "Python 3.8.1 64-bit",
   "language": "python",
   "name": "python38164bitd9f5db4c6a59403998988a5c56626fe9"
  },
  "language_info": {
   "codemirror_mode": {
    "name": "ipython",
    "version": 3
   },
   "file_extension": ".py",
   "mimetype": "text/x-python",
   "name": "python",
   "nbconvert_exporter": "python",
   "pygments_lexer": "ipython3",
   "version": "3.8.1"
  }
 },
 "nbformat": 4,
 "nbformat_minor": 4
}
